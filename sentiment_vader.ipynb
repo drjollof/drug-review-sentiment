{
  "nbformat": 4,
  "nbformat_minor": 0,
  "metadata": {
    "colab": {
      "provenance": [],
      "gpuType": "T4",
      "mount_file_id": "1BOh2QQjC_ABlp-5vktMzsoi5XHdcXlSd",
      "authorship_tag": "ABX9TyOo/wBSTudaqwjZm8H8Sb42"
    },
    "kernelspec": {
      "name": "python3",
      "display_name": "Python 3"
    },
    "language_info": {
      "name": "python"
    },
    "accelerator": "GPU"
  },
  "cells": [
    {
      "cell_type": "code",
      "execution_count": 11,
      "metadata": {
        "id": "cUqoNmI81gie"
      },
      "outputs": [],
      "source": [
        "import pandas as pd\n",
        "import numpy as np\n",
        "import matplotlib.pyplot as plt\n",
        "import seaborn as sns"
      ]
    },
    {
      "cell_type": "code",
      "source": [
        "df_train = pd.read_parquet('/content/drive/MyDrive/Colab_Notebooks/project datasets/drug-review-train.parquet')"
      ],
      "metadata": {
        "id": "PBPTZuMm1vII"
      },
      "execution_count": 12,
      "outputs": []
    },
    {
      "cell_type": "code",
      "source": [
        "df_test = pd.read_parquet('/content/drive/MyDrive/Colab_Notebooks/project datasets/drug-review-test.parquet')"
      ],
      "metadata": {
        "id": "wrFxE3LN0-OS"
      },
      "execution_count": 13,
      "outputs": []
    },
    {
      "cell_type": "code",
      "source": [
        "del df_test['Unnamed: 0']\n",
        "del df_train['Unnamed: 0']"
      ],
      "metadata": {
        "id": "Wf-bbIqM1Dpm"
      },
      "execution_count": 14,
      "outputs": []
    },
    {
      "cell_type": "code",
      "source": [
        "df_train['rating'] = df_train['rating'].astype(int)\n",
        "df_test['rating'] = df_test['rating'].astype(int)"
      ],
      "metadata": {
        "id": "mqc5UxYj1vAp"
      },
      "execution_count": 15,
      "outputs": []
    },
    {
      "cell_type": "code",
      "source": [
        "def sentiment(rating):\n",
        "  if rating >= 9:\n",
        "    return 'very positive'\n",
        "  elif rating >= 7:\n",
        "    return 'positive'\n",
        "  elif rating >= 5:\n",
        "    return 'neutral'\n",
        "  elif rating >= 3:\n",
        "    return 'negative'\n",
        "  else:\n",
        "    return 'very negative'"
      ],
      "metadata": {
        "id": "YQN2l8fUStpK",
        "collapsed": true
      },
      "execution_count": 16,
      "outputs": []
    },
    {
      "cell_type": "code",
      "source": [
        "df = pd.concat([df_train, df_test], ignore_index='False')\n",
        "df['sentiment']  = df['rating'].apply(sentiment)"
      ],
      "metadata": {
        "id": "t-rFdFnn3PIS"
      },
      "execution_count": 17,
      "outputs": []
    },
    {
      "cell_type": "code",
      "source": [
        "df['vader_sentiment'].value_counts()"
      ],
      "metadata": {
        "id": "S1ysx585QkKi"
      },
      "execution_count": null,
      "outputs": []
    },
    {
      "cell_type": "code",
      "source": [
        "df['vader_sentiment2'].value_counts()"
      ],
      "metadata": {
        "id": "DC217KwHUrNn"
      },
      "execution_count": null,
      "outputs": []
    },
    {
      "cell_type": "code",
      "source": [
        "plt.figure(figsize=(10,5))\n",
        "sns.countplot(df['sentiment'])"
      ],
      "metadata": {
        "id": "D-Hk66J518iD"
      },
      "execution_count": null,
      "outputs": []
    },
    {
      "cell_type": "code",
      "source": [
        "plt.figure(figsize=(10,5))\n",
        "sns.countplot(df['vader_sentiment2'])\n",
        "\n"
      ],
      "metadata": {
        "id": "T655zslaTwv4"
      },
      "execution_count": null,
      "outputs": []
    },
    {
      "cell_type": "code",
      "source": [
        "plt.figure(figsize=(10,5))\n",
        "sns.countplot(df['vader_sentiment'])"
      ],
      "metadata": {
        "id": "W_KjLVCzJNdS"
      },
      "execution_count": null,
      "outputs": []
    },
    {
      "cell_type": "code",
      "source": [
        "df['sentiment'].value_counts()"
      ],
      "metadata": {
        "id": "jQ8g79aV3O8g"
      },
      "execution_count": null,
      "outputs": []
    },
    {
      "cell_type": "markdown",
      "source": [
        "**CHECK FOR WORLD COUNTS ON THE REVIEW COLUMNS USING NLTK**\n"
      ],
      "metadata": {
        "id": "XHPhLahzsReL"
      }
    },
    {
      "cell_type": "code",
      "source": [
        "'''\n",
        "from nltk import word_tokenize\n",
        "nltk.download('punkt_tab')\n",
        "word_count = []\n",
        "for review in df['review']:\n",
        "  word_count.append(len(word_tokenize(review)))\n",
        "  word_count_series = pd.Series(word_count, name='word_count')\n",
        "review_series = df.review\n",
        "word_count_df = pd.concat([review_series, word_count_series], axis=1)\n",
        "word_count_df[word_count_df['word_count'] > 508].count()\n",
        "'''"
      ],
      "metadata": {
        "id": "d1AGZser1u46"
      },
      "execution_count": 63,
      "outputs": []
    },
    {
      "cell_type": "markdown",
      "source": [
        "# **VADER ANALYSIS**"
      ],
      "metadata": {
        "id": "Sgh9EquLLQpe"
      }
    },
    {
      "cell_type": "code",
      "source": [
        "import nltk\n",
        "from nltk.sentiment.vader import SentimentIntensityAnalyzer\n",
        "nltk.download('vader_lexicon')"
      ],
      "metadata": {
        "id": "IbHXMfTV6F_Z",
        "colab": {
          "base_uri": "https://localhost:8080/"
        },
        "outputId": "8681ff41-ee78-4371-9851-8424f95c8ebf"
      },
      "execution_count": 9,
      "outputs": [
        {
          "output_type": "stream",
          "name": "stderr",
          "text": [
            "[nltk_data] Downloading package vader_lexicon to /root/nltk_data...\n"
          ]
        },
        {
          "output_type": "execute_result",
          "data": {
            "text/plain": [
              "True"
            ]
          },
          "metadata": {},
          "execution_count": 9
        }
      ]
    },
    {
      "cell_type": "markdown",
      "source": [
        "- Very negative: <-0.75\n",
        "\n",
        "- Negative: -0.6 to -0.2\n",
        "\n",
        "- Neutral: -0.2 to 0.2\n",
        "\n",
        "- Positive: 0.2 to 0.6\n",
        "\n",
        "- Very positive: > 0.6\n",
        "\n"
      ],
      "metadata": {
        "id": "L_jUK2lW4Top"
      }
    },
    {
      "cell_type": "code",
      "source": [
        "def vader_score2(score):\n",
        "  if score >= 0.6:\n",
        "    return 'very positive'\n",
        "  elif score >= 0.2:\n",
        "    return 'positive'\n",
        "  elif score >= -0.2:\n",
        "    return 'neutral'\n",
        "  elif score >= -0.6:\n",
        "    return 'negative'\n",
        "  else:\n",
        "    return 'very negative'"
      ],
      "metadata": {
        "id": "0IRs4BD77YS3"
      },
      "execution_count": 28,
      "outputs": []
    },
    {
      "cell_type": "markdown",
      "source": [
        "- *Very Positive*: Compound score ≥ 0.75\n",
        "- *Positive*: Compound score ≥ 0.05 and < 0.75\n",
        "- *Neutral*: Compound score > -0.05 and < 0.05\n",
        "- *Negative*: Compound score ≤ -0.05 and > -0.75\n",
        "- *Very Negative*: Compound score ≤ -0.75"
      ],
      "metadata": {
        "id": "kR6-fqnAYAbR"
      }
    },
    {
      "cell_type": "code",
      "source": [
        "def vader_score(score):\n",
        "  if score >= 0.75:\n",
        "    return 'very positive'\n",
        "  elif score >= 0.05 and score < 0.75:\n",
        "    return 'positive'\n",
        "  elif score > -0.05 and score < 0.05:\n",
        "    return 'neutral'\n",
        "  elif score <= -0.05 and score > -0.75:\n",
        "    return 'negative'\n",
        "  else:\n",
        "    return 'very negative'"
      ],
      "metadata": {
        "id": "edsq6eNJyQJ5"
      },
      "execution_count": 25,
      "outputs": []
    },
    {
      "cell_type": "code",
      "source": [
        "sia = SentimentIntensityAnalyzer()\n",
        "df['vader_sentiment_score'] = df['review'].apply(lambda x: sia.polarity_scores(x)['compound'])\n"
      ],
      "metadata": {
        "id": "h7bdDxc91uyi"
      },
      "execution_count": 26,
      "outputs": []
    },
    {
      "cell_type": "code",
      "source": [
        "df['vader_sentiment2'] = df['vader_sentiment_score'].apply(vader_score2)"
      ],
      "metadata": {
        "id": "u8EdpUdxz9fP"
      },
      "execution_count": 29,
      "outputs": []
    },
    {
      "cell_type": "code",
      "source": [
        "check = df[df['sentiment'] != df['vader_sentiment']][['review', 'rating', 'vader_sentiment_score', 'vader_sentiment']]"
      ],
      "metadata": {
        "id": "0qy_oM2M6fs8"
      },
      "execution_count": 98,
      "outputs": []
    },
    {
      "cell_type": "markdown",
      "source": [
        "# BIOBERT ANALYSIS"
      ],
      "metadata": {
        "id": "tWix7TSELdFe"
      }
    },
    {
      "cell_type": "code",
      "source": [
        "!pip install datasets"
      ],
      "metadata": {
        "id": "7DLf3ZAqIiQr"
      },
      "execution_count": null,
      "outputs": []
    },
    {
      "cell_type": "code",
      "source": [
        "from transformers import AutoTokenizer , AutoModelForSequenceClassification\n",
        "from datasets import Dataset\n"
      ],
      "metadata": {
        "id": "IvbpZC3yLm8L"
      },
      "execution_count": 64,
      "outputs": []
    },
    {
      "cell_type": "code",
      "source": [
        "!unzip /content/drive/MyDrive/Colab_Notebooks/models/biobert-base_model-mnli.zip"
      ],
      "metadata": {
        "colab": {
          "base_uri": "https://localhost:8080/"
        },
        "id": "PkLdBUqkL2TK",
        "outputId": "e4465c4a-779f-4298-be69-97eb50025c5f"
      },
      "execution_count": 3,
      "outputs": [
        {
          "output_type": "stream",
          "name": "stdout",
          "text": [
            "Archive:  /content/drive/MyDrive/Colab_Notebooks/models/biobert-base_model-mnli.zip\n",
            "   creating: biobert-base_model-mnli/\n",
            "  inflating: biobert-base_model-mnli/config.json  \n",
            "  inflating: biobert-base_model-mnli/model.safetensors  \n",
            "  inflating: biobert-base_model-mnli/special_tokens_map.json  \n",
            "  inflating: biobert-base_model-mnli/tokenizer.json  \n",
            "  inflating: biobert-base_model-mnli/tokenizer_config.json  \n",
            "  inflating: biobert-base_model-mnli/vocab.txt  \n"
          ]
        }
      ]
    },
    {
      "cell_type": "code",
      "source": [
        "tokenizer = AutoTokenizer.from_pretrained(\"/content/biobert-base_model-mnli\")\n",
        "model = AutoModelForSequenceClassification.from_pretrained(\"/content/biobert-base_model-mnli\")"
      ],
      "metadata": {
        "id": "edpzZ096LnZu"
      },
      "execution_count": 61,
      "outputs": []
    },
    {
      "cell_type": "code",
      "source": [
        "from sklearn.preprocessing import LabelEncoder\n",
        "le = LabelEncoder()\n",
        "df['label'] = le.fit_transform(df['sentiment'])"
      ],
      "metadata": {
        "id": "VujwgsrVMlhd"
      },
      "execution_count": 53,
      "outputs": []
    },
    {
      "cell_type": "code",
      "source": [
        "df['label'].value_counts()"
      ],
      "metadata": {
        "colab": {
          "base_uri": "https://localhost:8080/",
          "height": 272
        },
        "id": "yffpH1QeDms2",
        "outputId": "0298d8f4-1ead-47c2-fea8-e8c7b79cef1a"
      },
      "execution_count": 58,
      "outputs": [
        {
          "output_type": "execute_result",
          "data": {
            "text/plain": [
              "label\n",
              "4    104713\n",
              "3     38183\n",
              "2     37593\n",
              "1     19185\n",
              "0     15389\n",
              "Name: count, dtype: int64"
            ],
            "text/html": [
              "<div>\n",
              "<style scoped>\n",
              "    .dataframe tbody tr th:only-of-type {\n",
              "        vertical-align: middle;\n",
              "    }\n",
              "\n",
              "    .dataframe tbody tr th {\n",
              "        vertical-align: top;\n",
              "    }\n",
              "\n",
              "    .dataframe thead th {\n",
              "        text-align: right;\n",
              "    }\n",
              "</style>\n",
              "<table border=\"1\" class=\"dataframe\">\n",
              "  <thead>\n",
              "    <tr style=\"text-align: right;\">\n",
              "      <th></th>\n",
              "      <th>count</th>\n",
              "    </tr>\n",
              "    <tr>\n",
              "      <th>label</th>\n",
              "      <th></th>\n",
              "    </tr>\n",
              "  </thead>\n",
              "  <tbody>\n",
              "    <tr>\n",
              "      <th>4</th>\n",
              "      <td>104713</td>\n",
              "    </tr>\n",
              "    <tr>\n",
              "      <th>3</th>\n",
              "      <td>38183</td>\n",
              "    </tr>\n",
              "    <tr>\n",
              "      <th>2</th>\n",
              "      <td>37593</td>\n",
              "    </tr>\n",
              "    <tr>\n",
              "      <th>1</th>\n",
              "      <td>19185</td>\n",
              "    </tr>\n",
              "    <tr>\n",
              "      <th>0</th>\n",
              "      <td>15389</td>\n",
              "    </tr>\n",
              "  </tbody>\n",
              "</table>\n",
              "</div><br><label><b>dtype:</b> int64</label>"
            ]
          },
          "metadata": {},
          "execution_count": 58
        }
      ]
    },
    {
      "cell_type": "code",
      "source": [
        "df.columns"
      ],
      "metadata": {
        "colab": {
          "base_uri": "https://localhost:8080/"
        },
        "id": "UyN-Rnh7MI1f",
        "outputId": "542c113e-10d5-4036-b145-6cff068ccc7e"
      },
      "execution_count": 56,
      "outputs": [
        {
          "output_type": "execute_result",
          "data": {
            "text/plain": [
              "Index(['drugName', 'condition', 'review', 'rating', 'date', 'usefulCount',\n",
              "       'sentiment', 'vader_sentiment_score', 'vader_sentiment',\n",
              "       'vader_sentiment2', 'label'],\n",
              "      dtype='object')"
            ]
          },
          "metadata": {},
          "execution_count": 56
        }
      ]
    },
    {
      "cell_type": "code",
      "source": [
        "data = df[['review', 'label']]"
      ],
      "metadata": {
        "id": "g_8twxGqDRl7"
      },
      "execution_count": 66,
      "outputs": []
    },
    {
      "cell_type": "code",
      "source": [],
      "metadata": {
        "id": "Vm8HrbqjLTvw"
      },
      "execution_count": null,
      "outputs": []
    },
    {
      "cell_type": "code",
      "source": [
        "from sklearn.model_selection import train_test_split\n",
        "train, test = train_test_split(data, test_size=0.78, random_state=42, stratify=data['label'])\n"
      ],
      "metadata": {
        "id": "iMIPhrqtI1h8"
      },
      "execution_count": 67,
      "outputs": []
    },
    {
      "cell_type": "code",
      "source": [
        "#unstrata_train, unstrata_test = train_test_split(data, test_size=0.78, random_state=4)"
      ],
      "metadata": {
        "id": "KHVkjkhqLU5P"
      },
      "execution_count": 73,
      "outputs": []
    },
    {
      "cell_type": "code",
      "source": [
        "train.shape"
      ],
      "metadata": {
        "colab": {
          "base_uri": "https://localhost:8080/"
        },
        "collapsed": true,
        "id": "ttuTU7bLK7vR",
        "outputId": "9a663428-1d6b-42f7-ae7f-07a329835b5c"
      },
      "execution_count": 72,
      "outputs": [
        {
          "output_type": "execute_result",
          "data": {
            "text/plain": [
              "(47313, 2)"
            ]
          },
          "metadata": {},
          "execution_count": 72
        }
      ]
    },
    {
      "cell_type": "code",
      "source": [
        "train['label'].value_counts()"
      ],
      "metadata": {
        "colab": {
          "base_uri": "https://localhost:8080/",
          "height": 272
        },
        "collapsed": true,
        "id": "hm2vShx4I1XY",
        "outputId": "72f9a0f9-90d7-4b32-8557-944a9a15266a"
      },
      "execution_count": 89,
      "outputs": [
        {
          "output_type": "execute_result",
          "data": {
            "text/plain": [
              "label\n",
              "4    23036\n",
              "3     8400\n",
              "2     8270\n",
              "1     4221\n",
              "0     3386\n",
              "Name: count, dtype: int64"
            ],
            "text/html": [
              "<div>\n",
              "<style scoped>\n",
              "    .dataframe tbody tr th:only-of-type {\n",
              "        vertical-align: middle;\n",
              "    }\n",
              "\n",
              "    .dataframe tbody tr th {\n",
              "        vertical-align: top;\n",
              "    }\n",
              "\n",
              "    .dataframe thead th {\n",
              "        text-align: right;\n",
              "    }\n",
              "</style>\n",
              "<table border=\"1\" class=\"dataframe\">\n",
              "  <thead>\n",
              "    <tr style=\"text-align: right;\">\n",
              "      <th></th>\n",
              "      <th>count</th>\n",
              "    </tr>\n",
              "    <tr>\n",
              "      <th>label</th>\n",
              "      <th></th>\n",
              "    </tr>\n",
              "  </thead>\n",
              "  <tbody>\n",
              "    <tr>\n",
              "      <th>4</th>\n",
              "      <td>23036</td>\n",
              "    </tr>\n",
              "    <tr>\n",
              "      <th>3</th>\n",
              "      <td>8400</td>\n",
              "    </tr>\n",
              "    <tr>\n",
              "      <th>2</th>\n",
              "      <td>8270</td>\n",
              "    </tr>\n",
              "    <tr>\n",
              "      <th>1</th>\n",
              "      <td>4221</td>\n",
              "    </tr>\n",
              "    <tr>\n",
              "      <th>0</th>\n",
              "      <td>3386</td>\n",
              "    </tr>\n",
              "  </tbody>\n",
              "</table>\n",
              "</div><br><label><b>dtype:</b> int64</label>"
            ]
          },
          "metadata": {},
          "execution_count": 89
        }
      ]
    },
    {
      "cell_type": "code",
      "source": [
        "tokenized_review = tokenizer(list(train['review']),\n",
        "                      max_length = 512,\n",
        "                      padding = True,\n",
        "                      truncation = True,\n",
        "                      return_tensors = 'pt')"
      ],
      "metadata": {
        "id": "pQkKAPhUI1M9"
      },
      "execution_count": 76,
      "outputs": []
    },
    {
      "cell_type": "code",
      "source": [
        "tokenized_review"
      ],
      "metadata": {
        "colab": {
          "base_uri": "https://localhost:8080/"
        },
        "id": "_6qo-C7EOr6B",
        "outputId": "9796900d-9e08-4353-eb01-953eebe5497a"
      },
      "execution_count": 81,
      "outputs": [
        {
          "output_type": "execute_result",
          "data": {
            "text/plain": [
              "{'input_ids': tensor([[ 101,  107,  178,  ...,    0,    0,    0],\n",
              "        [ 101,  107,  178,  ...,    0,    0,    0],\n",
              "        [ 101,  107, 1122,  ...,    0,    0,    0],\n",
              "        ...,\n",
              "        [ 101,  107,  178,  ...,    0,    0,    0],\n",
              "        [ 101,  107, 2052,  ...,    0,    0,    0],\n",
              "        [ 101,  107,  178,  ...,    0,    0,    0]]), 'token_type_ids': tensor([[0, 0, 0,  ..., 0, 0, 0],\n",
              "        [0, 0, 0,  ..., 0, 0, 0],\n",
              "        [0, 0, 0,  ..., 0, 0, 0],\n",
              "        ...,\n",
              "        [0, 0, 0,  ..., 0, 0, 0],\n",
              "        [0, 0, 0,  ..., 0, 0, 0],\n",
              "        [0, 0, 0,  ..., 0, 0, 0]]), 'attention_mask': tensor([[1, 1, 1,  ..., 0, 0, 0],\n",
              "        [1, 1, 1,  ..., 0, 0, 0],\n",
              "        [1, 1, 1,  ..., 0, 0, 0],\n",
              "        ...,\n",
              "        [1, 1, 1,  ..., 0, 0, 0],\n",
              "        [1, 1, 1,  ..., 0, 0, 0],\n",
              "        [1, 1, 1,  ..., 0, 0, 0]])}"
            ]
          },
          "metadata": {},
          "execution_count": 81
        }
      ]
    },
    {
      "cell_type": "code",
      "source": [
        "data_dict = {'input_ids': tokenized_review['input_ids'],\n",
        "              'attention_mask': tokenized_review['attention_mask'],\n",
        "              'labels': list(train['label'])\n",
        "                                           }"
      ],
      "metadata": {
        "id": "CQgCQCMgPItY"
      },
      "execution_count": 91,
      "outputs": []
    },
    {
      "cell_type": "code",
      "source": [
        "dataset = Dataset.from_dict(data_dict)"
      ],
      "metadata": {
        "id": "Xa5GbIu5P4Zm"
      },
      "execution_count": 93,
      "outputs": []
    },
    {
      "cell_type": "code",
      "source": [
        "train_val = dataset.train_test_split(test_size=0.2)"
      ],
      "metadata": {
        "id": "VhOEowQDP4Q4"
      },
      "execution_count": 96,
      "outputs": []
    },
    {
      "cell_type": "code",
      "source": [],
      "metadata": {
        "colab": {
          "base_uri": "https://localhost:8080/"
        },
        "id": "_bn0FXbYS_E7",
        "outputId": "245abf2f-221e-41d0-a10c-346cc77e444b"
      },
      "execution_count": 97,
      "outputs": [
        {
          "output_type": "execute_result",
          "data": {
            "text/plain": [
              "DatasetDict({\n",
              "    train: Dataset({\n",
              "        features: ['input_ids', 'attention_mask', 'labels'],\n",
              "        num_rows: 37850\n",
              "    })\n",
              "    test: Dataset({\n",
              "        features: ['input_ids', 'attention_mask', 'labels'],\n",
              "        num_rows: 9463\n",
              "    })\n",
              "})"
            ]
          },
          "metadata": {},
          "execution_count": 97
        }
      ]
    },
    {
      "cell_type": "code",
      "source": [
        "small_train_dataset = train_val[\"train\"].shuffle(seed=42).select(range(50))\n",
        "small_eval_dataset = train_val[\"test\"].shuffle(seed=42).select(range(50))"
      ],
      "metadata": {
        "id": "26joNNmfS39k"
      },
      "execution_count": 98,
      "outputs": []
    },
    {
      "cell_type": "code",
      "source": [
        "from transformers import TrainingArguments, Trainer\n",
        "training_args = TrainingArguments(output_dir= \"./test_trainer\",\n",
        "                                  eval_strategy=\"epoch\",\n",
        "                                  report_to=\"none\")\n",
        "#\n",
        "trainer = Trainer(model = model,\n",
        "        args = training_args,\n",
        "        train_dataset = small_train_dataset,\n",
        "        eval_dataset = small_eval_dataset)"
      ],
      "metadata": {
        "id": "Y6XKxdDKS339"
      },
      "execution_count": 102,
      "outputs": []
    },
    {
      "cell_type": "code",
      "source": [
        "trainer.train()"
      ],
      "metadata": {
        "colab": {
          "base_uri": "https://localhost:8080/",
          "height": 76
        },
        "id": "7VFANDZcUWw_",
        "outputId": "22793c0f-f238-45cf-e09a-ceb9c0d948c8"
      },
      "execution_count": null,
      "outputs": [
        {
          "output_type": "display_data",
          "data": {
            "text/plain": [
              "<IPython.core.display.HTML object>"
            ],
            "text/html": [
              "\n",
              "    <div>\n",
              "      \n",
              "      <progress value='2' max='189' style='width:300px; height:20px; vertical-align: middle;'></progress>\n",
              "      [  2/189 : < :, Epoch 0.02/3]\n",
              "    </div>\n",
              "    <table border=\"1\" class=\"dataframe\">\n",
              "  <thead>\n",
              " <tr style=\"text-align: left;\">\n",
              "      <th>Epoch</th>\n",
              "      <th>Training Loss</th>\n",
              "      <th>Validation Loss</th>\n",
              "    </tr>\n",
              "  </thead>\n",
              "  <tbody>\n",
              "  </tbody>\n",
              "</table><p>"
            ]
          },
          "metadata": {}
        }
      ]
    },
    {
      "cell_type": "markdown",
      "source": [
        "**CHECK FOR WORD COUNT ON REVIEW COLUMN USING BIOBERT TOKENIZER**"
      ],
      "metadata": {
        "id": "RYDirQRK2xTy"
      }
    },
    {
      "cell_type": "code",
      "source": [
        "'''\n",
        "word_count_biobert = []\n",
        "for review in df['review']:\n",
        "  word_count_biobert.append(len(tokenizer.tokenize(review)))\n",
        "word_count_biobert_series = pd.Series(word_count_biobert, name= \"word_count_biobert\")\n",
        "word_count_biobert_df = pd.concat([review_series, word_count_biobert_series], axis=1)\n",
        "word_count_biobert_df[word_count_biobert_df['word_count_biobert'] > 508].count()\n",
        "\n",
        "'''"
      ],
      "metadata": {
        "id": "fbEq2fHjMIxo"
      },
      "execution_count": 114,
      "outputs": []
    },
    {
      "cell_type": "code",
      "source": [],
      "metadata": {
        "id": "mVJMjDwINH6I"
      },
      "execution_count": 136,
      "outputs": []
    },
    {
      "cell_type": "code",
      "source": [],
      "metadata": {
        "id": "oew7sBLfN29N"
      },
      "execution_count": 137,
      "outputs": []
    },
    {
      "cell_type": "code",
      "source": [],
      "metadata": {
        "id": "7yVXhe0KN2zh"
      },
      "execution_count": null,
      "outputs": []
    },
    {
      "cell_type": "markdown",
      "source": [
        "# FLAIR SENTIMENT ANALYSIS"
      ],
      "metadata": {
        "id": "PvRUk1e6plf3"
      }
    },
    {
      "cell_type": "code",
      "source": [
        "'''\n",
        "!pip install -q flair\n",
        "from flair.models import TextClassifier\n",
        "from flair.data import Sentence\n",
        "'''"
      ],
      "metadata": {
        "id": "0nv9swOSrXEc"
      },
      "execution_count": null,
      "outputs": []
    },
    {
      "cell_type": "code",
      "source": [
        "'''\n",
        "classifier = TextClassifier.load('sentiment')\n",
        "classifier.predict('i am here to watch you eat')\n",
        "'''"
      ],
      "metadata": {
        "id": "X-5LnOB4qbRg"
      },
      "execution_count": null,
      "outputs": []
    }
  ]
}